{
 "cells": [
  {
   "cell_type": "markdown",
   "metadata": {},
   "source": [
    "# Homework 09\n",
    " Name: Shubei Wang\n",
    "\n",
    " SID: 3034358656"
   ]
  },
  {
   "cell_type": "markdown",
   "metadata": {},
   "source": [
    "### __1. In UNIGRAM setting__"
   ]
  },
  {
   "cell_type": "markdown",
   "metadata": {},
   "source": [
    "__Original cleaned reviews__"
   ]
  },
  {
   "cell_type": "code",
   "execution_count": null,
   "metadata": {},
   "outputs": [],
   "source": [
    "original_clean_reviews=review_cleaner(train['review'],lemmatize=False,stem=False)\n",
    "train_predict_sentiment(cleaned_reviews=original_clean_reviews, y=train[\"sentiment\"],\n",
    "                        ngram=1,max_features=1000)"
   ]
  },
  {
   "cell_type": "markdown",
   "metadata": {},
   "source": [
    "The training accuracy is:  0.99995 \n",
    "\n",
    "The validation accuracy is:  0.821"
   ]
  },
  {
   "cell_type": "markdown",
   "metadata": {},
   "source": [
    "__Lemmatized reviews__"
   ]
  },
  {
   "cell_type": "code",
   "execution_count": null,
   "metadata": {},
   "outputs": [],
   "source": [
    "lemmatized_reviews=review_cleaner(train['review'],lemmatize=True,stem=False)\n",
    "train_predict_sentiment(cleaned_reviews=lemmatized_reviews, y=train[\"sentiment\"],\n",
    "                        ngram=1,max_features=1000)"
   ]
  },
  {
   "cell_type": "markdown",
   "metadata": {},
   "source": [
    "The training accuracy is:  1.0\n",
    "\n",
    "The validation accuracy is:  0.826"
   ]
  },
  {
   "cell_type": "markdown",
   "metadata": {},
   "source": [
    "__Stemmed reviews__"
   ]
  },
  {
   "cell_type": "code",
   "execution_count": null,
   "metadata": {},
   "outputs": [],
   "source": [
    "stemmed_reviews=review_cleaner(train['review'],lemmatize=False,stem=True)\n",
    "train_predict_sentiment(cleaned_reviews=stemmed_reviews, y=train[\"sentiment\"],\n",
    "                        ngram=1,max_features=1000)"
   ]
  },
  {
   "cell_type": "markdown",
   "metadata": {},
   "source": [
    "The training accuracy is:  0.99995 \n",
    "\n",
    "The validation accuracy is:  0.8272"
   ]
  },
  {
   "cell_type": "markdown",
   "metadata": {},
   "source": [
    "### __2. In BIGRAM setting__"
   ]
  },
  {
   "cell_type": "markdown",
   "metadata": {},
   "source": [
    "__Original cleaned reviews__"
   ]
  },
  {
   "cell_type": "code",
   "execution_count": null,
   "metadata": {},
   "outputs": [],
   "source": [
    "original_clean_reviews=review_cleaner(train['review'],lemmatize=False,stem=False)\n",
    "train_predict_sentiment(cleaned_reviews=original_clean_reviews, y=train[\"sentiment\"],\n",
    "                        ngram=2,max_features=1000)"
   ]
  },
  {
   "cell_type": "markdown",
   "metadata": {},
   "source": [
    "The training accuracy is:  1.0 \n",
    "\n",
    "The validation accuracy is:  0.822"
   ]
  },
  {
   "cell_type": "markdown",
   "metadata": {},
   "source": [
    "__Lemmatized reviews__"
   ]
  },
  {
   "cell_type": "code",
   "execution_count": null,
   "metadata": {},
   "outputs": [],
   "source": [
    "lemmatized_reviews=review_cleaner(train['review'],lemmatize=True,stem=False)\n",
    "train_predict_sentiment(cleaned_reviews=lemmatized_reviews, y=train[\"sentiment\"],\n",
    "                        ngram=2,max_features=1000)"
   ]
  },
  {
   "cell_type": "markdown",
   "metadata": {},
   "source": [
    "The training accuracy is:  0.99995\n",
    "\n",
    "The validation accuracy is:  0.8236"
   ]
  },
  {
   "cell_type": "markdown",
   "metadata": {},
   "source": [
    "__Stemmed reviews__"
   ]
  },
  {
   "cell_type": "code",
   "execution_count": null,
   "metadata": {},
   "outputs": [],
   "source": [
    "stemmed_reviews=review_cleaner(train['review'],lemmatize=False,stem=True)\n",
    "train_predict_sentiment(cleaned_reviews=stemmed_reviews, y=train[\"sentiment\"],\n",
    "                        ngram=2,max_features=1000)"
   ]
  },
  {
   "cell_type": "markdown",
   "metadata": {},
   "source": [
    " The training accuracy is:  0.9999 \n",
    " \n",
    " The validation accuracy is:  0.8256"
   ]
  },
  {
   "cell_type": "markdown",
   "metadata": {},
   "source": [
    "### __3. In UNIGRAM setting & Lemmatization, change max features__"
   ]
  },
  {
   "cell_type": "code",
   "execution_count": null,
   "metadata": {},
   "outputs": [],
   "source": [
    "clean_reviews=review_cleaner(train['review'],lemmatize=True,stem=False) \n",
    "for x in [10,100,1000,5000]:\n",
    "    train_predict_sentiment(cleaned_reviews=clean_reviews, y=train[\"sentiment\"],\n",
    "                        ngram= 1,max_features=x)"
   ]
  },
  {
   "cell_type": "markdown",
   "metadata": {},
   "source": [
    "| max features | training accuracy | validation accuracy |\n",
    "| --- | --- | --- |\n",
    "| 10 | 0.8714 | 0.5606 |\n",
    "| 100 | 0.99995 | 0.721 |\n",
    "| 1000 | 1.0 | 0.8182 |\n",
    "| 5000 | 1.0 | 0.8392 |"
   ]
  },
  {
   "cell_type": "markdown",
   "metadata": {},
   "source": [
    "### __Summary:__\n",
    "\n",
    "From the results in part1 & part 2, we can see that the rank of the validation accracy is as follows in both unigram and bigram setting: stemmed > lemmatized > original. It seems to indicate that stemmed reveiw has the highest prediction accuracy. However there's only little difference, and I did the experiment several times and I found the results may differ each time. There may not be significant difference between those three methods.\n",
    "\n",
    "From part 3 we can see that as the number of Max Features increases from 10 to 5000, both the training accuracy and the validation accuracy increase. It indicates that there is not yet a problem of overfitting, and the model performs best with max features = 5000."
   ]
  }
 ],
 "metadata": {
  "kernelspec": {
   "display_name": "Python 3",
   "language": "python",
   "name": "python3"
  },
  "language_info": {
   "codemirror_mode": {
    "name": "ipython",
    "version": 3
   },
   "file_extension": ".py",
   "mimetype": "text/x-python",
   "name": "python",
   "nbconvert_exporter": "python",
   "pygments_lexer": "ipython3",
   "version": "3.6.5"
  }
 },
 "nbformat": 4,
 "nbformat_minor": 2
}
